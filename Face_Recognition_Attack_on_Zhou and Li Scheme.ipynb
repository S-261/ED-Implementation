{
 "cells": [
  {
   "cell_type": "markdown",
   "id": "7cf2e615",
   "metadata": {},
   "source": [
    "## Library Imports"
   ]
  },
  {
   "cell_type": "code",
   "execution_count": 1,
   "id": "f06cc544",
   "metadata": {
    "id": "f06cc544"
   },
   "outputs": [],
   "source": [
    "import numpy as np\n",
    "import cv2\n",
    "from sklearn.preprocessing import StandardScaler\n",
    "from PIL import Image\n",
    "import os\n",
    "import random"
   ]
  },
  {
   "cell_type": "markdown",
   "id": "2185ba85",
   "metadata": {},
   "source": [
    "## Image Matrix Construction"
   ]
  },
  {
   "cell_type": "code",
   "execution_count": 2,
   "id": "34a957b6",
   "metadata": {
    "id": "34a957b6"
   },
   "outputs": [],
   "source": [
    "file_dict = {} # dictionary to hold path to each image (for reduced space & faster access time)\n",
    "\n",
    "def create_vec(location, count_of_same_celebrity=40):\n",
    "    '''\n",
    "    Create a random vectorized array with 'n' number of images of each celebrity\n",
    "\n",
    "    location: location of the master folder\n",
    "    count_of_same_celebrity: number of random images taken of the same celebrity\n",
    "    '''\n",
    "    # Create an empty list to store arrays\n",
    "    img_arrays = []\n",
    "    global file_dict\n",
    "\n",
    "    idx = 0\n",
    "\n",
    "    for celeb in os.listdir(location):\n",
    "        celeb_path = os.path.join(location, celeb)\n",
    "        if not os.path.isdir(celeb_path):\n",
    "            continue  # Skip if the item in the directory is not a folder\n",
    "\n",
    "        files = [f for f in os.listdir(celeb_path) if os.path.isfile(os.path.join(celeb_path, f))]\n",
    "\n",
    "        # Use min() to avoid going beyond the available indices\n",
    "        selected_files = random.sample(files, min(len(files), count_of_same_celebrity))\n",
    "\n",
    "        for selected_file in selected_files:\n",
    "            face_path = os.path.join(celeb_path, selected_file)\n",
    "            file_dict[idx] = face_path\n",
    "            idx+=1\n",
    "\n",
    "            # Open and resize the face image\n",
    "            face_image = Image.open(face_path).convert(\"L\")  # Convert to grayscale\n",
    "            resized_face_image = face_image.resize((20, 20))\n",
    "            img_array = np.array(resized_face_image).flatten()\n",
    "            img_arrays.append(img_array)\n",
    "\n",
    "    # Convert the list of arrays into a NumPy array\n",
    "    img_matrix = np.transpose(img_arrays)\n",
    "\n",
    "    return img_matrix\n",
    "\n",
    "\n",
    "I = create_vec('Cropped Celebrity Faces Dataset') \n",
    "#I is created by taking 40 images of each celebrity (m = 17*40 = 680) with each image is of size 20*20 (= n)"
   ]
  },
  {
   "cell_type": "code",
   "execution_count": 3,
   "id": "015bcd78",
   "metadata": {
    "colab": {
     "base_uri": "https://localhost:8080/"
    },
    "id": "015bcd78",
    "outputId": "1cee38d9-f756-423c-c7f6-43e0702f3808"
   },
   "outputs": [
    {
     "name": "stdout",
     "output_type": "stream",
     "text": [
      "n = 400\n",
      "m = 680\n"
     ]
    }
   ],
   "source": [
    "n = I.shape[0]\n",
    "m = I.shape[1]\n",
    "print(\"n =\", n)\n",
    "print(\"m =\", m)  #To check the size of the image matrix"
   ]
  },
  {
   "cell_type": "code",
   "execution_count": 4,
   "id": "9a73a62d",
   "metadata": {
    "id": "9a73a62d"
   },
   "outputs": [],
   "source": [
    "mean = np.mean(I, axis=1, keepdims=True)\n",
    "J = I - mean # Centering the image datas about the mean"
   ]
  },
  {
   "cell_type": "code",
   "execution_count": 5,
   "id": "6d93a73b",
   "metadata": {
    "colab": {
     "base_uri": "https://localhost:8080/"
    },
    "id": "6d93a73b",
    "outputId": "e5f5700d-7260-480e-b0bc-d172ed51c28a"
   },
   "outputs": [
    {
     "data": {
      "text/plain": [
       "(400, 400)"
      ]
     },
     "execution_count": 5,
     "metadata": {},
     "output_type": "execute_result"
    }
   ],
   "source": [
    "# Covariance\n",
    "A = 1/m * J @ J.T  # A is the covariance matrix that is symmetric. Hence, we apply Zhou and Li (2016) protocol to encrypt A.\n",
    "A.shape"
   ]
  },
  {
   "cell_type": "markdown",
   "id": "164baec9",
   "metadata": {},
   "source": [
    "## Zhou and Li Encryption"
   ]
  },
  {
   "cell_type": "markdown",
   "id": "8583bd7c",
   "metadata": {},
   "source": [
    "### Generation of B"
   ]
  },
  {
   "cell_type": "code",
   "execution_count": null,
   "id": "0d53c88a",
   "metadata": {
    "id": "0d53c88a"
   },
   "outputs": [],
   "source": [
    "alpha = np.random.rand()\n",
    "s = np.random.rand()\n",
    "\n",
    "P = np.eye(n)[:, np.random.permutation(n)] #Random permutation matrix\n",
    "signs = np.random.choice([-1, 1], size=n)\n",
    "M = P * signs #Creates a permutation matrix with non-zero entries as 1 and -1 (as per Zhou and Li(2016) protocol)\n",
    "\n",
    "# Encryption\n",
    "B = M @ (alpha*A + s*np.eye(n)) @ M.T"
   ]
  },
  {
   "cell_type": "markdown",
   "id": "24b4f22f",
   "metadata": {},
   "source": [
    "## Cheating performed by cloud"
   ]
  },
  {
   "cell_type": "code",
   "execution_count": null,
   "id": "177d527f",
   "metadata": {
    "colab": {
     "base_uri": "https://localhost:8080/"
    },
    "id": "177d527f",
    "outputId": "0592b197-1da5-4947-88ef-8e9e8909635e"
   },
   "outputs": [],
   "source": [
    "# Eigendecomposition\n",
    "D, Y = np.linalg.eig(B) \n",
    "D1 = np.diag(D) #Formatting D as a 2-D array (n*n)\n",
    "\n",
    "#Cheating\n",
    "\n",
    "# Generating random 'cheating' vector k\n",
    "k = np.random.randn(Y.shape[0],1).reshape(-1) # Randomly generated n*1 vector\n",
    "k1 = np.square(k) #n*1 vector where k1[i] = k[i]^2\n",
    "\n",
    "# Distorting the eigendecomposition\n",
    "D_prime = np.zeros_like(D)\n",
    "for i in range(len(D)):\n",
    "    D_prime[i] = D[i] / k1[i]  #Dividing i-th eigenvalue by k[i]^2 \n",
    "Lambda_prime = np.diag(D_prime)\n",
    "\n",
    "Y_prime = np.zeros_like(Y)\n",
    "for i in range(len(k)):\n",
    "    Y_prime[:, i] = Y[:, i] * k[i] #Multiplying i-th eigenvector with k[i]"
   ]
  },
  {
   "cell_type": "markdown",
   "id": "d2e30c19",
   "metadata": {},
   "source": [
    "## Passing undetected in verification"
   ]
  },
  {
   "cell_type": "code",
   "execution_count": null,
   "id": "0703e445",
   "metadata": {},
   "outputs": [],
   "source": [
    "def is_diagonal_matrix(Z):          #Step 1 of Zhou and Li Verification\n",
    "    \"\"\"\n",
    "    Check if the given matrix Z is a diagonal matrix.\n",
    "    \"\"\"\n",
    "    return np.all(Z == np.diag(np.diagonal(Z)))\n",
    "\n",
    "def check(Z):\n",
    "    \"\"\"\n",
    "    Check if Z is not a diagonal matrix and output a message if it is not.\n",
    "    \"\"\"\n",
    "    if not is_diagonal_matrix(Z):\n",
    "        print(\"reject the wrong result\")\n",
    "        return\n",
    "    # If Z is a diagonal matrix, you can add any other code here if needed.\n",
    "    print(\"It is a diagonal matrix.\")\n",
    "\n",
    "check(Lambda_prime)"
   ]
  },
  {
   "cell_type": "code",
   "execution_count": null,
   "id": "62665a49",
   "metadata": {
    "colab": {
     "base_uri": "https://localhost:8080/"
    },
    "id": "62665a49",
    "outputId": "0a854b05-8c78-4e72-d5ef-cbbafdbebbc0"
   },
   "outputs": [],
   "source": [
    "l=int(input('No. of trials= ')) #Step 2 of Zhou and Li Verification\n",
    "for i in range(l):\n",
    "    e = np.random.choice([0, 1], size=(Y_prime.shape[0]))\n",
    "    err = np.linalg.norm(Y_prime @ (Lambda_prime @ (Y_prime.T @ e)) - B @ e)\n",
    "\n",
    "    if err >= 1e-4:\n",
    "        print(\"Verification failed\")\n",
    "        break\n",
    "\n",
    "else:\n",
    "    print(\"Verification successful for all trials\")"
   ]
  },
  {
   "cell_type": "markdown",
   "id": "75d9e49d",
   "metadata": {},
   "source": [
    "## As the cheated results passes the verification, client proceeds for decryption (To get back the eigendecomposition of A from ED of B). However, it is the cheated version."
   ]
  },
  {
   "cell_type": "code",
   "execution_count": null,
   "id": "bb530788",
   "metadata": {
    "colab": {
     "base_uri": "https://localhost:8080/"
    },
    "id": "bb530788",
    "outputId": "13e617be-4562-4afe-eecd-15006a1f47af"
   },
   "outputs": [],
   "source": [
    "U = M.T @ Y_prime\n",
    "Lambda = (1/alpha) * (Lambda_prime - s*np.eye(n))"
   ]
  },
  {
   "cell_type": "markdown",
   "id": "00e74ca5",
   "metadata": {},
   "source": [
    "## Proceeding for PCA-based face recognition after getting the eigendecomposition of A. "
   ]
  },
  {
   "cell_type": "code",
   "execution_count": null,
   "id": "c8040e69",
   "metadata": {
    "colab": {
     "base_uri": "https://localhost:8080/"
    },
    "id": "c8040e69",
    "outputId": "0073beee-932a-451c-9276-047b60e2aacc"
   },
   "outputs": [],
   "source": [
    "#Sorting eigenvectors and eigenvalues (cheated)\n",
    "Lambda_list = np.diag(Lambda)\n",
    "\n",
    "sorted_indices = np.argsort(Lambda_list)[::-1] # Sort (cheated) eigenvalues in decreasing order.\n",
    "U_sorted = U[:, sorted_indices] # Arrange the (cheated) eigenvectors in the same order. \n",
    "U_sorted.shape"
   ]
  },
  {
   "cell_type": "code",
   "execution_count": null,
   "id": "9ff6e2be",
   "metadata": {
    "colab": {
     "base_uri": "https://localhost:8080/"
    },
    "id": "9ff6e2be",
    "outputId": "e3ebf0cd-8ac2-4fc6-dd2d-b7e2cc0bfbe8"
   },
   "outputs": [],
   "source": [
    "# Number of eigenfaces\n",
    "num_components = 100 #Number of principal components taken\n",
    "selected_U = U_sorted[:, :num_components]\n",
    "selected_U.shape\n",
    "# Project data onto selected eigenvectors (eigenfaces)\n",
    "W = selected_U.T @ J\n",
    "\n",
    "W.shape"
   ]
  },
  {
   "cell_type": "markdown",
   "id": "f16e9f7a",
   "metadata": {},
   "source": [
    "## Testing image"
   ]
  },
  {
   "cell_type": "code",
   "execution_count": null,
   "id": "3d425a74",
   "metadata": {
    "colab": {
     "base_uri": "https://localhost:8080/",
     "height": 515
    },
    "id": "3d425a74",
    "outputId": "d63efcf3-071c-48fe-f939-0399630cda39"
   },
   "outputs": [],
   "source": [
    "def preprocess_test_image(file_path, target_size=(20, 20)):\n",
    "    img = Image.open(file_path).convert('L')  # Convert image to grayscale\n",
    "    img_resized = img.resize(target_size, Image.LANCZOS)  # Resize image to a uniform size\n",
    "    img_array = np.array(img_resized).flatten()  # Flatten the resized image to a single column vector\n",
    "    return img_array\n",
    "\n",
    "# Path to your test image file (replace with the actual path to your test image)\n",
    "test_image_path = 'Test/Tom Hanks/008_74cd0628.jpg'  # Replace with your test image file path\n",
    "\n",
    "from IPython.display import display\n",
    "import matplotlib.pyplot as plt\n",
    "img = Image.open(test_image_path)\n",
    "display(img)"
   ]
  },
  {
   "cell_type": "code",
   "execution_count": null,
   "id": "c4c6e6d7",
   "metadata": {
    "id": "c4c6e6d7"
   },
   "outputs": [],
   "source": [
    "# Load and preprocess the test image into a column vector\n",
    "x = preprocess_test_image(test_image_path)\n",
    "\n",
    "x_reshaped = x.reshape(-1,1)\n",
    "x_reshaped.shape\n",
    "\n",
    "# Normalizing\n",
    "x_norm = x_reshaped - mean\n",
    "# Transforming\n",
    "x_trans = selected_U.T @ x_norm"
   ]
  },
  {
   "cell_type": "code",
   "execution_count": null,
   "id": "13a41a34",
   "metadata": {
    "id": "13a41a34"
   },
   "outputs": [],
   "source": [
    "d = np.linalg.norm(x_trans - W, axis=0)\n",
    "d_min = np.min(d)\n",
    "d_index = np.argmin(d)"
   ]
  },
  {
   "cell_type": "code",
   "execution_count": null,
   "id": "IPnXrNqcQLZJ",
   "metadata": {
    "id": "IPnXrNqcQLZJ"
   },
   "outputs": [],
   "source": [
    "from IPython.display import display\n",
    "\n",
    "def display_original(n):\n",
    "  '''\n",
    "  n: a number less than A.shape[1] and the index of the image to be displayed\n",
    "  '''\n",
    "  global file_dict\n",
    "  display(Image.open(file_dict[n]))"
   ]
  },
  {
   "cell_type": "code",
   "execution_count": null,
   "id": "E3QlxR4QQzjP",
   "metadata": {
    "colab": {
     "base_uri": "https://localhost:8080/",
     "height": 98
    },
    "id": "E3QlxR4QQzjP",
    "outputId": "1c0b5cbc-84f0-4384-b8e3-db2b67cfcec2"
   },
   "outputs": [],
   "source": [
    "display_original(d_index) #Displaying the detected image"
   ]
  },
  {
   "cell_type": "markdown",
   "id": "e91c9096",
   "metadata": {},
   "source": [
    "# New Robust Verification Method "
   ]
  },
  {
   "cell_type": "code",
   "execution_count": null,
   "id": "31c77f41",
   "metadata": {},
   "outputs": [],
   "source": [
    "l=int(input('No. of trials'))\n",
    "for i in range(l):\n",
    "    e2 = np.random.choice([0, 1], size=(Y_prime.shape[0]))\n",
    "    err2 = np.linalg.norm(Y_prime.T @ (Y_prime @ e2) - e2)\n",
    "    \n",
    "    if err2 >= 1e-4:\n",
    "        print(\"Verification failed\")\n",
    "        break\n",
    "    \n",
    "    \n",
    "    e1 = np.random.choice([0, 1], size=(Y_prime.shape[0]))\n",
    "    err1 = np.linalg.norm(Y_prime @ (Lambda_prime @ (Y_prime.T @ e1)) - B @ e1)\n",
    "    \n",
    "    if err1 >= 1e-4:\n",
    "        print(\"Verification failed\")\n",
    "        break\n",
    "else:\n",
    "    print(\"Verification successful for all trials\")"
   ]
  },
  {
   "cell_type": "code",
   "execution_count": null,
   "id": "62f1f701",
   "metadata": {},
   "outputs": [],
   "source": []
  }
 ],
 "metadata": {
  "colab": {
   "provenance": []
  },
  "kernelspec": {
   "display_name": "Python 3 (ipykernel)",
   "language": "python",
   "name": "python3"
  },
  "language_info": {
   "codemirror_mode": {
    "name": "ipython",
    "version": 3
   },
   "file_extension": ".py",
   "mimetype": "text/x-python",
   "name": "python",
   "nbconvert_exporter": "python",
   "pygments_lexer": "ipython3",
   "version": "3.10.9"
  }
 },
 "nbformat": 4,
 "nbformat_minor": 5
}
