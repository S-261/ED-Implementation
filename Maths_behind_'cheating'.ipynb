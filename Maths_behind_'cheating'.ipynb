{
 "cells": [
  {
   "cell_type": "code",
   "execution_count": 1,
   "id": "574e93e2",
   "metadata": {},
   "outputs": [],
   "source": [
    "import numpy as np"
   ]
  },
  {
   "cell_type": "markdown",
   "id": "48b17aa3",
   "metadata": {},
   "source": [
    "## Recreating Zhou and Li protocol by generating the necessary parameter"
   ]
  },
  {
   "cell_type": "code",
   "execution_count": 2,
   "id": "4159b581",
   "metadata": {},
   "outputs": [
    {
     "name": "stdout",
     "output_type": "stream",
     "text": [
      "size of matrix: 100\n"
     ]
    }
   ],
   "source": [
    "\n",
    "n = int(input('size of matrix: ')) #Since the input is a square matrix \n",
    "\n",
    "\n",
    "R = np.random.rand(n, n)\n",
    "A = R.T @ R #This creates a randomly generated square symmetric matrix. (This is the input) \n",
    "# R.T is the transpose of R.\n",
    "\n"
   ]
  },
  {
   "cell_type": "markdown",
   "id": "a17e16fa",
   "metadata": {},
   "source": [
    "## Encrypting"
   ]
  },
  {
   "cell_type": "code",
   "execution_count": 3,
   "id": "d25723e5",
   "metadata": {},
   "outputs": [],
   "source": [
    "alpha = np.random.rand()\n",
    "s = np.random.rand()\n",
    "\n",
    "P = np.eye(n)[:, np.random.permutation(n)] #Random permutation matrix\n",
    "signs = np.random.choice([-1, 1], size=n)\n",
    "M = P * signs #Creates a permutation matrix with non-zero entries as 1 and -1 (as per Zhou and Li(2016) protocol)\n",
    "\n",
    "# Encryption\n",
    "B = M @ (alpha*A + s*np.eye(n)) @ M.T"
   ]
  },
  {
   "cell_type": "markdown",
   "id": "68af1b92",
   "metadata": {},
   "source": [
    "## Cheating performed by cloud"
   ]
  },
  {
   "cell_type": "code",
   "execution_count": 4,
   "id": "b5a4cc0b",
   "metadata": {},
   "outputs": [],
   "source": [
    "# Eigendecomposition\n",
    "D, Y = np.linalg.eig(B) \n",
    "D1 = np.diag(D) #Formatting D as a 2-D array (n*n)\n",
    "\n",
    "#Cheating\n",
    "\n",
    "# Generating random 'cheating' vector k\n",
    "k = np.random.randn(Y.shape[0],1).reshape(-1) # Randomly generated n*1 vector\n",
    "k1 = np.square(k) #n*1 vector where k1[i] = k[i]^2\n",
    "\n",
    "# Distorting the eigendecomposition\n",
    "D_prime = np.zeros_like(D)\n",
    "for i in range(len(D)):\n",
    "    D_prime[i] = D[i] / k1[i]  #Dividing i-th eigenvalue by k[i]^2 \n",
    "Lambda_prime = np.diag(D_prime)\n",
    "\n",
    "Y_prime = np.zeros_like(Y)\n",
    "for i in range(len(k)):\n",
    "    Y_prime[:, i] = Y[:, i] * k[i] #Multiplying i-th eigenvector with k[i]"
   ]
  },
  {
   "cell_type": "markdown",
   "id": "6b0e1f7b",
   "metadata": {},
   "source": [
    "## Passing undetected in verification"
   ]
  },
  {
   "cell_type": "code",
   "execution_count": 5,
   "id": "64db02c5",
   "metadata": {},
   "outputs": [
    {
     "name": "stdout",
     "output_type": "stream",
     "text": [
      "It is a diagonal matrix.\n"
     ]
    }
   ],
   "source": [
    "def is_diagonal_matrix(Z):\n",
    "    \"\"\"\n",
    "    Check if the given matrix Z is a diagonal matrix.\n",
    "    \"\"\"\n",
    "    return np.all(Z == np.diag(np.diagonal(Z)))\n",
    "\n",
    "def check(Z):\n",
    "    \"\"\"\n",
    "    Check if Z is not a diagonal matrix and output a message if it is not.\n",
    "    \"\"\"\n",
    "    if not is_diagonal_matrix(Z):\n",
    "        print(\"reject the wrong result\")\n",
    "        return\n",
    "    # If Z is a diagonal matrix, you can add any other code here if needed.\n",
    "    print(\"It is a diagonal matrix.\")\n",
    "\n",
    "check(Lambda_prime)"
   ]
  },
  {
   "cell_type": "code",
   "execution_count": 6,
   "id": "f9ee82c9",
   "metadata": {},
   "outputs": [
    {
     "name": "stdout",
     "output_type": "stream",
     "text": [
      "No. of trials= 80\n",
      "Verification successful for all trials\n"
     ]
    }
   ],
   "source": [
    "l=int(input('No. of trials= ')) #For verification checks\n",
    "\n",
    "for i in range(l):\n",
    "    e = np.random.choice([0, 1], size=(Y_prime.shape[0]))\n",
    "    err = np.linalg.norm(Y_prime @ (Lambda_prime @ (Y_prime.T @ e)) - B @ e)\n",
    "\n",
    "    if err >= 1e-4:\n",
    "        print(\"Verification failed\")\n",
    "        break\n",
    "\n",
    "else:\n",
    "    print(\"Verification successful for all trials\")"
   ]
  },
  {
   "cell_type": "code",
   "execution_count": 7,
   "id": "b6f564ff",
   "metadata": {},
   "outputs": [
    {
     "data": {
      "text/plain": [
       "9.203930654292488e-12"
      ]
     },
     "execution_count": 7,
     "metadata": {},
     "output_type": "execute_result"
    }
   ],
   "source": [
    "np.linalg.norm(Y_prime @ (Lambda_prime @ (Y_prime.T))- B)  \n",
    "#For assurance (Representing both quantity are computationally equal)"
   ]
  },
  {
   "cell_type": "markdown",
   "id": "0af15bef",
   "metadata": {},
   "source": [
    "## Highlighting the mathematical issue. If Y_prime* Lambda_prime* Y_prime.T is indeed the eigendecomposition of B, then B* Y_prime should be equal to Y_prime* Lambda_prime."
   ]
  },
  {
   "cell_type": "code",
   "execution_count": 8,
   "id": "02566442",
   "metadata": {},
   "outputs": [
    {
     "data": {
      "text/plain": [
       "False"
      ]
     },
     "execution_count": 8,
     "metadata": {},
     "output_type": "execute_result"
    }
   ],
   "source": [
    "def is_equal(A,B):\n",
    "    \"\"\"\n",
    "    Check if the given matrices A and B are equal.\n",
    "    \"\"\"\n",
    "    return np.array_equal(A, B)\n",
    "\n",
    "is_equal(B@Y_prime,Y_prime@Lambda_prime)"
   ]
  },
  {
   "cell_type": "markdown",
   "id": "f7332ad8",
   "metadata": {},
   "source": [
    "## This shows that the malicious cloud has successfully provided incorrect results that passes the verification process.\n",
    "## This also shows that i-th column of Y_prime i.e Y_prime[:,i] is NOT the eigenvector corresponding to the i-th eigenvalue in Lambda_prime. "
   ]
  },
  {
   "cell_type": "code",
   "execution_count": 9,
   "id": "8510ccf2",
   "metadata": {},
   "outputs": [
    {
     "data": {
      "text/plain": [
       "False"
      ]
     },
     "execution_count": 9,
     "metadata": {},
     "output_type": "execute_result"
    }
   ],
   "source": [
    "#Confirming the above statement (checking only the first column, can be replaced with any column within n)\n",
    "\n",
    "is_equal(B@Y_prime[:,0],D_prime[0]*Y_prime[:,0])"
   ]
  },
  {
   "cell_type": "markdown",
   "id": "b90571b3",
   "metadata": {},
   "source": [
    "## Moreover, as the cheated results passes the verification step, the client goes for decryption to retrieve the eigendecomposition of A from the incorrect eigendecomposition of B"
   ]
  },
  {
   "cell_type": "code",
   "execution_count": 10,
   "id": "109c8c31",
   "metadata": {},
   "outputs": [],
   "source": [
    "#Decryption\n",
    "\n",
    "X = M.T @ Y_prime \n",
    "L = Lambda_prime - s*np.eye(n)\n",
    "Lambda  = (1/alpha) * L"
   ]
  },
  {
   "cell_type": "markdown",
   "id": "064afa68",
   "metadata": {},
   "source": [
    "# But the decryption proposed by Zhou and Li will not produce the eigendecomposition of A  "
   ]
  },
  {
   "cell_type": "code",
   "execution_count": 11,
   "id": "380fa858",
   "metadata": {},
   "outputs": [
    {
     "data": {
      "text/plain": [
       "False"
      ]
     },
     "execution_count": 11,
     "metadata": {},
     "output_type": "execute_result"
    }
   ],
   "source": [
    "is_equal(A,X@Lambda@X.T)"
   ]
  },
  {
   "cell_type": "code",
   "execution_count": 12,
   "id": "a2f5ee9a",
   "metadata": {},
   "outputs": [
    {
     "name": "stdout",
     "output_type": "stream",
     "text": [
      "No. of trials= 1\n",
      "Not Equal\n"
     ]
    }
   ],
   "source": [
    "l=int(input('No. of trials= ')) #For solid proof\n",
    "\n",
    "for i in range(l):\n",
    "    e1 = np.random.choice([0, 1], size=(X.shape[0]))\n",
    "    err1 = np.linalg.norm(X @ (Lambda @ (X.T @ e1)) - A @ e1)\n",
    "\n",
    "    if err1 >= 1e-4:\n",
    "        print(\"Not Equal\")\n",
    "        break\n",
    "\n",
    "else:\n",
    "    print(\"Equal\")"
   ]
  },
  {
   "cell_type": "code",
   "execution_count": 13,
   "id": "d78bedda",
   "metadata": {},
   "outputs": [
    {
     "data": {
      "text/plain": [
       "8.382073560047575"
      ]
     },
     "execution_count": 13,
     "metadata": {},
     "output_type": "execute_result"
    }
   ],
   "source": [
    "np.linalg.norm(X @ (Lambda @ (X.T))-A) \n",
    "#Hard evidence that both matrices are not equal"
   ]
  },
  {
   "cell_type": "markdown",
   "id": "4d7b01cf",
   "metadata": {},
   "source": [
    "# This shows that the cheated results has passed the verification process providing cheated eigendecomposition of B, which resulted in retrieving incorrect eigendecomposition of A."
   ]
  },
  {
   "cell_type": "markdown",
   "id": "e594d7fa",
   "metadata": {},
   "source": [
    "## Proposed Verification Scheme (To show the effectiveness of the correction)"
   ]
  },
  {
   "cell_type": "code",
   "execution_count": 14,
   "id": "a6d4768d",
   "metadata": {},
   "outputs": [
    {
     "name": "stdout",
     "output_type": "stream",
     "text": [
      "No. of trials1\n",
      "Verification failed\n"
     ]
    }
   ],
   "source": [
    "l=int(input('No. of trials'))\n",
    "for i in range(l):\n",
    "    e2 = np.random.choice([0, 1], size=(Y_prime.shape[0]))\n",
    "    err2 = np.linalg.norm(Y_prime.T @ (Y_prime @ e2) - e2)\n",
    "    \n",
    "    if err2 >= 1e-4:\n",
    "        print(\"Verification failed\")\n",
    "        break\n",
    "    \n",
    "    \n",
    "    e1 = np.random.choice([0, 1], size=(Y_prime.shape[0]))\n",
    "    err1 = np.linalg.norm(Y_prime @ (Lambda_prime @ (Y_prime.T @ e1)) - B @ e1)\n",
    "    \n",
    "    if err1 >= 1e-4:\n",
    "        print(\"Verification failed\")\n",
    "        break\n",
    "else:\n",
    "    print(\"Verification successful for all trials\")"
   ]
  },
  {
   "cell_type": "markdown",
   "id": "fe1a45d3",
   "metadata": {},
   "source": [
    "## Proposed verification scheme can detect the cheated outputs in one trial."
   ]
  },
  {
   "cell_type": "code",
   "execution_count": null,
   "id": "7330444f",
   "metadata": {},
   "outputs": [],
   "source": []
  }
 ],
 "metadata": {
  "kernelspec": {
   "display_name": "Python 3 (ipykernel)",
   "language": "python",
   "name": "python3"
  },
  "language_info": {
   "codemirror_mode": {
    "name": "ipython",
    "version": 3
   },
   "file_extension": ".py",
   "mimetype": "text/x-python",
   "name": "python",
   "nbconvert_exporter": "python",
   "pygments_lexer": "ipython3",
   "version": "3.10.9"
  }
 },
 "nbformat": 4,
 "nbformat_minor": 5
}
